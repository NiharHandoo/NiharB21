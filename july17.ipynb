{
 "cells": [
  {
   "cell_type": "code",
   "execution_count": 23,
   "metadata": {},
   "outputs": [
    {
     "name": "stdout",
     "output_type": "stream",
     "text": [
      "\n",
      "I have a Dog\n",
      "my Dog's name is Rambo.\n"
     ]
    }
   ],
   "source": [
    "def describe_pet(pet_name,animal_type):\n",
    "    \"\"\"Display information about a pet\"\"\"\n",
    "    print(f\"\\nI have a {animal_type}\")\n",
    "    print(f\"my {animal_type}'s name is {pet_name.title()}.\")\n",
    "\n",
    "#describe_pet('dog','rambo')\n",
    "describe_pet('rambo','Dog')"
   ]
  },
  {
   "cell_type": "code",
   "execution_count": 31,
   "metadata": {},
   "outputs": [
    {
     "ename": "SyntaxError",
     "evalue": "non-default argument follows default argument (<ipython-input-31-1a2cbf0213b9>, line 1)",
     "output_type": "error",
     "traceback": [
      "\u001b[1;36m  File \u001b[1;32m\"<ipython-input-31-1a2cbf0213b9>\"\u001b[1;36m, line \u001b[1;32m1\u001b[0m\n\u001b[1;33m    def decribe_pet(animal_type ='dog',pet_name):\u001b[0m\n\u001b[1;37m                   ^\u001b[0m\n\u001b[1;31mSyntaxError\u001b[0m\u001b[1;31m:\u001b[0m non-default argument follows default argument\n"
     ]
    }
   ],
   "source": [
    "def decribe_pet(animal_type ='dog',pet_name):\n",
    "    \"\"\"Display information about a pet\"\"\"\n",
    "    print(f\"\\nI have a {animal_type}\")\n",
    "    print(f\"my {animal_type}'s name is {pet_name.title()}.\")\n",
    "\n",
    "decribe_pet('dog','rambo')\n",
    "\n",
    "#O/p error, always keep the default parameter at the last"
   ]
  },
  {
   "cell_type": "code",
   "execution_count": 32,
   "metadata": {},
   "outputs": [
    {
     "name": "stdout",
     "output_type": "stream",
     "text": [
      "\n",
      "I have a cat\n",
      "my cat's name is Rex.\n"
     ]
    }
   ],
   "source": [
    "def describe_pet(pet_name,animal_type ='dog'):\n",
    "    \"\"\"Display information about a pet\"\"\"\n",
    "    print(f\"\\nI have a {animal_type}\")\n",
    "    print(f\"my {animal_type}'s name is {pet_name.title()}.\")\n",
    "\n",
    "\n",
    "describe_pet('rex','cat')\n",
    "\n",
    "#op correct \n",
    "\n",
    "#returing a simple value "
   ]
  },
  {
   "cell_type": "code",
   "execution_count": 39,
   "metadata": {},
   "outputs": [
    {
     "data": {
      "text/plain": [
       "'Naveen Kumar'"
      ]
     },
     "execution_count": 39,
     "metadata": {},
     "output_type": "execute_result"
    }
   ],
   "source": [
    "def get_formated_name(first_name,last_name):\n",
    "    \"\"\"Return a full Name, neately formatted\"\"\"\n",
    "    full_name = f\"{first_name}{last_name}\"\n",
    "    return full_name.title()\n",
    "\n",
    "get_formated_name('naveen ','kumar')\n",
    "\n",
    "#op 'Naveen Kumar'"
   ]
  },
  {
   "cell_type": "code",
   "execution_count": 41,
   "metadata": {},
   "outputs": [
    {
     "name": "stdout",
     "output_type": "stream",
     "text": [
      "corn\n"
     ]
    }
   ],
   "source": [
    "def make_pizza(topping):\n",
    "    \"\"\"Print the list of toppings that has been requested.\"\"\"\n",
    "    print(topping)\n",
    "\n",
    "make_pizza('corn')\n",
    "#op corn\n",
    "\n",
    "#make_pizza('corn','olive','onions')\n",
    "#OP error"
   ]
  },
  {
   "cell_type": "code",
   "execution_count": 43,
   "metadata": {},
   "outputs": [
    {
     "ename": "TypeError",
     "evalue": "make_pizza() takes 1 positional argument but 3 were given",
     "output_type": "error",
     "traceback": [
      "\u001b[1;31m---------------------------------------------------------------------------\u001b[0m",
      "\u001b[1;31mTypeError\u001b[0m                                 Traceback (most recent call last)",
      "\u001b[1;32m<ipython-input-43-7bc55629f401>\u001b[0m in \u001b[0;36m<module>\u001b[1;34m\u001b[0m\n\u001b[0;32m      6\u001b[0m \u001b[1;31m#op corn\u001b[0m\u001b[1;33m\u001b[0m\u001b[1;33m\u001b[0m\u001b[1;33m\u001b[0m\u001b[0m\n\u001b[0;32m      7\u001b[0m \u001b[1;33m\u001b[0m\u001b[0m\n\u001b[1;32m----> 8\u001b[1;33m \u001b[0mmake_pizza\u001b[0m\u001b[1;33m(\u001b[0m\u001b[1;34m'corn'\u001b[0m\u001b[1;33m,\u001b[0m\u001b[1;34m'olive'\u001b[0m\u001b[1;33m,\u001b[0m\u001b[1;34m'onions'\u001b[0m\u001b[1;33m)\u001b[0m\u001b[1;33m\u001b[0m\u001b[1;33m\u001b[0m\u001b[0m\n\u001b[0m\u001b[0;32m      9\u001b[0m \u001b[1;31m#OP error\u001b[0m\u001b[1;33m\u001b[0m\u001b[1;33m\u001b[0m\u001b[1;33m\u001b[0m\u001b[0m\n",
      "\u001b[1;31mTypeError\u001b[0m: make_pizza() takes 1 positional argument but 3 were given"
     ]
    }
   ],
   "source": [
    "def make_pizza(topping):\n",
    "    \"\"\"Print the list of toppings that has been requested.\"\"\"\n",
    "    print(topping)\n",
    "\n",
    "#make_pizza('corn')\n",
    "#op corn\n",
    "\n",
    "make_pizza('corn','olive','onions')\n",
    "#OP error"
   ]
  },
  {
   "cell_type": "code",
   "execution_count": 44,
   "metadata": {},
   "outputs": [
    {
     "name": "stdout",
     "output_type": "stream",
     "text": [
      "('corn', 'olive', 'onions')\n"
     ]
    }
   ],
   "source": [
    "def make_pizza(*topping): # arbitary changes\n",
    "    \"\"\"Print the list of toppings that has been requested.\"\"\"\n",
    "    print(topping)\n",
    "\n",
    "make_pizza('corn','olive','onions')\n",
    "\n",
    "#op  ('corn','olive','onions')\n",
    "\n",
    "#enchenment of the code"
   ]
  },
  {
   "cell_type": "code",
   "execution_count": 50,
   "metadata": {},
   "outputs": [
    {
     "name": "stdout",
     "output_type": "stream",
     "text": [
      "\n",
      "Making a pizza with following toppings:\n",
      " - corn\n",
      " - olive\n",
      " - onions\n",
      " - extra cheese\n",
      " - checiken\n",
      " - organo\n",
      "\n",
      "Making a pizza with following toppings:\n",
      " - corn\n",
      " - olive\n",
      " - onions\n",
      "\n",
      "Making a pizza with following toppings:\n",
      " - corn\n"
     ]
    }
   ],
   "source": [
    "def make_pizza(*toppings):\n",
    "    \"\"\"Print the list of toppings that has been requested.\"\"\"\n",
    "    print(\"\\nMaking a pizza with following toppings:\")\n",
    "    for x in toppings: \n",
    "        print(f\" - {x}\")\n",
    "\n",
    "make_pizza('corn','olive','onions','extra cheese','checiken','organo')\n",
    "make_pizza('corn','olive','onions')\n",
    "make_pizza('corn')"
   ]
  },
  {
   "cell_type": "code",
   "execution_count": null,
   "metadata": {},
   "outputs": [],
   "source": []
  }
 ],
 "metadata": {
  "kernelspec": {
   "display_name": "Python 3",
   "language": "python",
   "name": "python3"
  },
  "language_info": {
   "codemirror_mode": {
    "name": "ipython",
    "version": 3
   },
   "file_extension": ".py",
   "mimetype": "text/x-python",
   "name": "python",
   "nbconvert_exporter": "python",
   "pygments_lexer": "ipython3",
   "version": "3.7.6"
  }
 },
 "nbformat": 4,
 "nbformat_minor": 4
}
