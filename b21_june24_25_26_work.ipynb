{
 "cells": [
  {
   "cell_type": "code",
   "execution_count": 1,
   "metadata": {},
   "outputs": [
    {
     "name": "stdout",
     "output_type": "stream",
     "text": [
      "Nihar Handoo\n",
      "NIHAR HANDOO\n",
      "nihar handoo\n"
     ]
    }
   ],
   "source": [
    "name = \"nihar handoo\"\n",
    "type(name)\n",
    "\n",
    "print(name.title())\n",
    "print(name.upper())\n",
    "#o/p = NIHAR HANDOO\n",
    "\n",
    "print(name.lower())\n",
    "#o/p = nihar handoo"
   ]
  },
  {
   "cell_type": "code",
   "execution_count": 15,
   "metadata": {},
   "outputs": [
    {
     "name": "stdout",
     "output_type": "stream",
     "text": [
      "niharhandoo\n",
      "Niharhandoo\n",
      "NIHARHANDOO\n",
      "keep up the good work,Niharhandoo\n",
      "\tpython\n",
      "fav_lang:\n",
      "\tpython\n",
      "\tC++\n",
      "\tC\n",
      "\tjava\n",
      " python\n",
      " python\n",
      " python\n"
     ]
    }
   ],
   "source": [
    "first_name = \"nihar\"\n",
    "last_name = \"handoo\"\n",
    "\n",
    "full_name = f\"{first_name}{last_name}\"\n",
    "\n",
    "print(full_name)\n",
    "\n",
    "print(full_name.title())\n",
    "\n",
    "print(full_name.upper())\n",
    "\n",
    "\n",
    "print(f\"keep up the good work,{full_name.title()}\")\n",
    "\n",
    "\n",
    "#adding white spaces to strings\n",
    "\n",
    "print('\\tpython') #tab delimiter\n",
    "print('fav_lang:\\n\\tpython\\n\\tC++\\n\\tC\\n\\tjava') #formatted\n",
    "\n",
    "\n",
    "\n",
    "#removing white spaces\n",
    "\n",
    "fav_lang=' python'\n",
    "print(fav_lang)\n",
    "\n",
    "fav_lang.lstrip()\n",
    "print(fav_lang)\n",
    "fav_lang.rstrip()\n",
    "print(fav_lang)"
   ]
  },
  {
   "cell_type": "code",
   "execution_count": 13,
   "metadata": {},
   "outputs": [
    {
     "data": {
      "text/plain": [
       "list"
      ]
     },
     "execution_count": 13,
     "metadata": {},
     "output_type": "execute_result"
    }
   ],
   "source": [
    "\n",
    "#June 26:-\n",
    "#-----------\n",
    "\n",
    "#List data type:-\n",
    "\n",
    "#-->\n",
    "#ordered collection of items\n",
    "\n",
    "#-->\n",
    "#mutable data type\n",
    "#-->\n",
    "my_students = ['sundar', 'kartik','mayuri','surdesh','manzoor','rahul']\n",
    "type(my_students)\n"
   ]
  },
  {
   "cell_type": "code",
   "execution_count": 14,
   "metadata": {},
   "outputs": [
    {
     "name": "stdout",
     "output_type": "stream",
     "text": [
      "sundar\n",
      "mayuri\n",
      "['sundar', 'nilesh', 'mayuri', 'surdesh', 'manzoor', 'rahul']\n",
      "surdesh\n",
      "['sundar', 'nilesh', 'yasmeen', 'mayuri', 'surdesh', 'manzoor', 'rahul', 'sushmita']\n",
      "yasmeen\n",
      "['sundar', 'nilesh', 'yasmeen', 'mayuri', 'manzoor', 'rahul', 'sushmita']\n",
      "sushmita\n",
      "['sundar', 'nilesh', 'yasmeen', 'mayuri', 'manzoor', 'rahul']\n"
     ]
    }
   ],
   "source": [
    "\n",
    "#Index:-\n",
    "#_________\n",
    "\n",
    "#starts from 0,1,2....\n",
    "\n",
    "print(my_students[0])\n",
    "\n",
    "#o/p = shag\n",
    "\n",
    "print(my_students[2])\n",
    "\n",
    "#modify ,alter,delete list\n",
    "\n",
    "\n",
    "#my_students =['sundar', 'kartik','mayuri','surdesh','manzoor','rahul'] #0,1,2,3,4,5\n",
    "\n",
    "#kartik to nilesh\n",
    "\n",
    "my_students[1] = 'nilesh'\n",
    "print(my_students)\n",
    "\n",
    "#op = my_students =['sundar', 'nilesh','mayuri','surdesh','manzoor','rahul']\n",
    "\n",
    "\n",
    "#append :-\n",
    "\n",
    "my_students.append('sushmita')\n",
    "\n",
    "#op = my_students =['sundar', 'nilesh','mayuri','surdesh','manzoor','rahul','sushmita']\n",
    "\n",
    "#append happens at last position\n",
    "\n",
    "print(my_students[3])\n",
    "\n",
    "\n",
    "my_students.insert(2,'yasmeen')\n",
    "\n",
    "print(my_students)\n",
    "\n",
    "#op = my_students =['sundar', 'nilesh','yasmen','mayuri','surdesh','manzoor','rahul','sushmita']\n",
    "\n",
    "print(my_students[2])\n",
    "\n",
    "\n",
    "#diff b/w\n",
    "\n",
    "#*****append vs insert*************************\n",
    "\n",
    "#delete the elements\n",
    "\n",
    "del my_students[4] # will delete suresh\n",
    "\n",
    "print(my_students) \n",
    "\n",
    "#op = my_students =['sundar', 'nilesh','yasmen','mayuri','manzoor','rahul','sushmita']\n",
    "\n",
    "\n",
    "# pop method \n",
    "\n",
    "x =my_students.pop()\n",
    "\n",
    "print(x)\n",
    "\n",
    "#sushmita\n",
    "\n",
    "print(my_students) \n",
    "\n",
    "#op = my_students =['sundar', 'nilesh','yasmen','mayuri','manzoor','rahul'\n"
   ]
  },
  {
   "cell_type": "markdown",
   "metadata": {},
   "source": [
    "\n"
   ]
  },
  {
   "cell_type": "markdown",
   "metadata": {},
   "source": []
  }
 ],
 "metadata": {
  "kernelspec": {
   "display_name": "Python 3",
   "language": "python",
   "name": "python3"
  },
  "language_info": {
   "codemirror_mode": {
    "name": "ipython",
    "version": 3
   },
   "file_extension": ".py",
   "mimetype": "text/x-python",
   "name": "python",
   "nbconvert_exporter": "python",
   "pygments_lexer": "ipython3",
   "version": "3.7.6"
  }
 },
 "nbformat": 4,
 "nbformat_minor": 4
}
