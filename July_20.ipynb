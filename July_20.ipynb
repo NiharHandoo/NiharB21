{
 "cells": [
  {
   "cell_type": "code",
   "execution_count": 1,
   "metadata": {},
   "outputs": [
    {
     "name": "stdout",
     "output_type": "stream",
     "text": [
      "1\n",
      "2\n",
      "3\n",
      "4\n",
      "5\n"
     ]
    }
   ],
   "source": [
    "\n",
    "current_num = 1 \n",
    "\n",
    "while current_num <= 5:\n",
    "        print(current_num)\n",
    "        current_num +=1 "
   ]
  },
  {
   "cell_type": "code",
   "execution_count": 2,
   "metadata": {},
   "outputs": [
    {
     "name": "stdout",
     "output_type": "stream",
     "text": [
      "\n",
      "Tell me something , and i will repeat it  for you!\n",
      "Enter 'quit' to end the programnihar is good\n",
      "nihar is good\n",
      "\n",
      "Tell me something , and i will repeat it  for you!\n",
      "Enter 'quit' to end the programquit\n",
      "quit\n"
     ]
    }
   ],
   "source": [
    "prompt = \"\\nTell me something , and i will repeat it  for you!\"\n",
    "prompt += \"\\nEnter 'quit' to end the program\"\n",
    "\n",
    "message = \" \" #condition\n",
    "\n",
    "while message != 'quit' :\n",
    "    message = input(prompt)\n",
    "    print(message)\n",
    " \n",
    "#O/p try quit after 2 times to see the diff options"
   ]
  },
  {
   "cell_type": "code",
   "execution_count": 3,
   "metadata": {},
   "outputs": [
    {
     "name": "stdout",
     "output_type": "stream",
     "text": [
      "\n",
      "pls enter the city you have visited recently\n",
      "(Enter 'quit' when you are finished)jammu\n",
      " I would love to visit Jammu  again\n",
      "\n",
      "pls enter the city you have visited recently\n",
      "(Enter 'quit' when you are finished)quit\n"
     ]
    }
   ],
   "source": [
    "\n",
    "# using break to exit a loop.\n",
    "\n",
    "prompt =\"\\npls enter the city you have visited recently\"\n",
    "prompt +=\"\\n(Enter 'quit' when you are finished)\"\n",
    "\n",
    "while True:\n",
    "    city =input(prompt)\n",
    "    if city == 'quit':\n",
    "        break\n",
    "    else:\n",
    "            print (f\" I would love to visit {city.title()}  again\")"
   ]
  },
  {
   "cell_type": "code",
   "execution_count": null,
   "metadata": {},
   "outputs": [],
   "source": []
  }
 ],
 "metadata": {
  "kernelspec": {
   "display_name": "Python 3",
   "language": "python",
   "name": "python3"
  },
  "language_info": {
   "codemirror_mode": {
    "name": "ipython",
    "version": 3
   },
   "file_extension": ".py",
   "mimetype": "text/x-python",
   "name": "python",
   "nbconvert_exporter": "python",
   "pygments_lexer": "ipython3",
   "version": "3.7.6"
  }
 },
 "nbformat": 4,
 "nbformat_minor": 4
}
