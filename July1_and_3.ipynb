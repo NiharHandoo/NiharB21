{
 "cells": [
  {
   "cell_type": "code",
   "execution_count": 2,
   "metadata": {},
   "outputs": [
    {
     "name": "stdout",
     "output_type": "stream",
     "text": [
      "['maneesh', 'dinesh']\n",
      "[2, 4, 6, 8, 10, 12, 14, 16, 18, 20, 22, 24, 26, 28]\n",
      "[3, 5, 7, 9, 11, 13, 15, 17, 19, 21, 23, 25, 27, 29]\n",
      "['yasmen', 'vivek']\n",
      "['yasmen', 'yashwant', 'pavan', 'rizwan']\n",
      "['yasmen', 'pratik', 'rizwan']\n",
      "suyog\n",
      "suyog\n",
      "rizwan\n",
      "[]\n",
      "['suyog', 'rizwan', 'meghna', 'pavan', 'pratik', 'yashwant', 'vivek', 'yasmen']\n"
     ]
    }
   ],
   "source": [
    "my_students =['rahul','nilesh','sahana','rohini', 'maneesh','dinesh']\n",
    "print(my_students[4:6])\n",
    "\n",
    "\n",
    "#enchancemnt of slcining\n",
    "#i want to get the even numbers from 1-30 using list data\n",
    "# range -> range(startvaue ,stopvalue,stepcount)\n",
    "\n",
    "\n",
    "eve_num = list(range(2,30,2))\n",
    "\n",
    "print(eve_num)\n",
    "\n",
    "\n",
    "\n",
    "odd_num = list(range(3,30,2))\n",
    "\n",
    "print(odd_num)\n",
    "\n",
    "type(odd_num)\n",
    "\n",
    "\n",
    "\n",
    "students =['yasmen','vivek','yashwant','pratik','pavan','meghna','rizwan','suyog']\n",
    "\n",
    "#want to get 2 people\n",
    "\n",
    "print(students[0:2])\n",
    "\n",
    "#alternate names\n",
    "\n",
    "print (students[0:7:2])\n",
    "\n",
    "\n",
    "print (students[0:7:3])\n",
    "\n",
    "\n",
    "#intro to neg indexing starts from -1 -2 -3\n",
    "\n",
    "\n",
    "print(students[7])\n",
    "\n",
    "\n",
    "print(students[-1])\n",
    "\n",
    "\n",
    "print(students[-2])\n",
    "\n",
    "\n",
    "#how do you print the list in reverse using indexing**\n",
    "\n",
    "print(students[-1:-8:1])\n",
    "\n",
    "print(students[::-1]) \n"
   ]
  },
  {
   "cell_type": "code",
   "execution_count": 9,
   "metadata": {},
   "outputs": [
    {
     "name": "stdout",
     "output_type": "stream",
     "text": [
      "app\n",
      "or\n",
      "kiwi\n",
      "(200, 50)\n"
     ]
    }
   ],
   "source": [
    "\n",
    "\n",
    "#July 3:-\n",
    "#------------\n",
    "# how to get value without ''\n",
    "\n",
    "fruits  =['app','or','kiwi']\n",
    "for x in fruits:\n",
    "    print(x)\n",
    "\n",
    "#introduction to tuple data type:-\n",
    "#def an immutable list is called as tuple\n",
    "# defined by -->  ()\n",
    "dimensions =(200,50)\n",
    "print(dimensions)"
   ]
  },
  {
   "cell_type": "code",
   "execution_count": 8,
   "metadata": {},
   "outputs": [
    {
     "data": {
      "text/plain": [
       "tuple"
      ]
     },
     "execution_count": 8,
     "metadata": {},
     "output_type": "execute_result"
    }
   ],
   "source": [
    "type(dimensions)"
   ]
  },
  {
   "cell_type": "code",
   "execution_count": 11,
   "metadata": {},
   "outputs": [
    {
     "name": "stdout",
     "output_type": "stream",
     "text": [
      "(250, 50)\n"
     ]
    }
   ],
   "source": [
    "#dimensions[0] =250\n",
    "#op errror\n",
    "\n",
    "#req modify tuple  200 to 250\n",
    "dimensions=(250,50)\n",
    "print(dimensions)\n"
   ]
  },
  {
   "cell_type": "code",
   "execution_count": 16,
   "metadata": {},
   "outputs": [
    {
     "name": "stdout",
     "output_type": "stream",
     "text": [
      "6\n",
      "1\n",
      "3\n",
      "4\n",
      "5\n",
      "6\n",
      "8\n"
     ]
    }
   ],
   "source": [
    "\n",
    "test=(1,3,4,5,6,8)\n",
    "print(test[4])\n",
    "#op 6\n",
    "\n",
    "for x in test:\n",
    "    print(x)"
   ]
  },
  {
   "cell_type": "code",
   "execution_count": null,
   "metadata": {},
   "outputs": [],
   "source": []
  }
 ],
 "metadata": {
  "kernelspec": {
   "display_name": "Python 3",
   "language": "python",
   "name": "python3"
  },
  "language_info": {
   "codemirror_mode": {
    "name": "ipython",
    "version": 3
   },
   "file_extension": ".py",
   "mimetype": "text/x-python",
   "name": "python",
   "nbconvert_exporter": "python",
   "pygments_lexer": "ipython3",
   "version": "3.7.6"
  }
 },
 "nbformat": 4,
 "nbformat_minor": 4
}
