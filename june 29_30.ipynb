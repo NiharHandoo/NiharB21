{
 "cells": [
  {
   "cell_type": "code",
   "execution_count": 1,
   "metadata": {},
   "outputs": [
    {
     "name": "stdout",
     "output_type": "stream",
     "text": [
      "['maruti', 'honda', 'kia', 'bmw', 'benz', 'audi']\n",
      "['audi', 'benz', 'bmw', 'honda', 'kia', 'maruti']\n",
      "['maruti', 'honda', 'kia', 'bmw', 'benz', 'audi']\n"
     ]
    }
   ],
   "source": [
    "#orgnisaing list\n",
    "\n",
    "cars = ['maruti','honda','kia', 'bmw','benz','audi']\n",
    "\n",
    "print(cars)\n",
    "\n",
    "#['maruti','honda','kia', 'bmw','benz','audi']\n",
    "\n",
    "type(cars)\n",
    "\n",
    "#organize in alphabetic order a-z\n",
    "\n",
    "#temp method \n",
    "#permanenet approach\n",
    "\n",
    "\n",
    "print(sorted(cars))\n",
    "\n",
    "\n",
    "#op /  ['audi','benz','bmw','honda','kia','maruti']\n",
    "\n",
    "print(cars)\n",
    "\n",
    "#op/   ['maruti','honda','kia', 'bmw','benz','audi']\n"
   ]
  },
  {
   "cell_type": "code",
   "execution_count": 3,
   "metadata": {},
   "outputs": [
    {
     "name": "stdout",
     "output_type": "stream",
     "text": [
      "['audi', 'benz', 'bmw', 'honda', 'kia', 'maruti']\n",
      "['maruti', 'kia', 'honda', 'bmw', 'benz', 'audi']\n",
      "['maruti', 'kia', 'honda', 'bmw', 'benz', 'audi']\n"
     ]
    },
    {
     "data": {
      "text/plain": [
       "6"
      ]
     },
     "execution_count": 3,
     "metadata": {},
     "output_type": "execute_result"
    }
   ],
   "source": [
    "#permanent way...\n",
    "\n",
    "cars.sort()\n",
    "\n",
    "print(cars)\n",
    "\n",
    "#o/p ['audi','benz','bmw','honda','kia','maruti']\n",
    "\n",
    "#sort will change the oder permanently\n",
    "\n",
    "\n",
    "#print the list in reverse order\n",
    "\n",
    "cars.reverse()\n",
    "\n",
    "print(cars)\n",
    "\n",
    "#o/p ['maruti','kia','honda','bmw','benz','audi']\n",
    "\n",
    "print(cars)\n",
    "\n",
    "#o/p ['maruti','kia','honda','bmw','benz','audi']\n",
    "#permananet change\n",
    "\n",
    "# check elements in the list\n",
    "\n",
    "len(cars)\n",
    "\n",
    "#op 6"
   ]
  },
  {
   "cell_type": "code",
   "execution_count": 5,
   "metadata": {},
   "outputs": [
    {
     "name": "stdout",
     "output_type": "stream",
     "text": [
      "keep up the good work,Kiran\n",
      "keep up the good work,Ezaz\n",
      "keep up the good work,Snethil\n",
      "keep up the good work,Yasmen\n",
      "keep up the good work,Chandra\n",
      "keep up the good work,Bushra\n",
      "keep up the good work,Sushmita\n",
      "kiran\n",
      "ezaz\n",
      "snethil\n",
      "yasmen\n",
      "chandra\n",
      "bushra\n",
      "sushmita\n",
      "keep up the good work,Kiran\n",
      "keep up the good work,Ezaz\n",
      "keep up the good work,Snethil\n",
      "keep up the good work,Yasmen\n",
      "keep up the good work,Chandra\n",
      "keep up the good work,Bushra\n",
      "keep up the good work,Sushmita\n"
     ]
    }
   ],
   "source": [
    "\n",
    "# for loop\n",
    "\n",
    "my_students =['kiran','ezaz','snethil','yasmen','chandra','bushra','sushmita']\n",
    "\n",
    "for students in my_students:\n",
    "    print(f\"keep up the good work,{students.title()}\")\n",
    "\n",
    "\n",
    "for x in my_students:\n",
    "   print(x) # indentation\n",
    "\n",
    "\n",
    "for batman in my_students:\n",
    "    print(f\"keep up the good work,{batman.title()}\")"
   ]
  },
  {
   "cell_type": "code",
   "execution_count": 8,
   "metadata": {},
   "outputs": [
    {
     "name": "stdout",
     "output_type": "stream",
     "text": [
      "thank for sending files keep up the good work,Suresh\n",
      "looking forward to to receive file today,Suresh\n",
      "thank for sending files keep up the good work,Ramya\n",
      "looking forward to to receive file today,Ramya\n",
      "thank for sending files keep up the good work,Yasmeen\n",
      "looking forward to to receive file today,Yasmeen\n",
      "thank for sending files keep up the good work,Nihar\n",
      "looking forward to to receive file today,Nihar\n",
      "thank for sending files keep up the good work,Tarun\n",
      "looking forward to to receive file today,Tarun\n",
      "thank for sending files keep up the good work,Sayeda\n",
      "looking forward to to receive file today,Sayeda\n",
      "thank for sending files keep up the good work,Sneha\n",
      "looking forward to to receive file today,Sneha\n",
      "thank for sending files keep up the good work,Suresh\n",
      "I am looking forward to receive file today,Suresh\n",
      "\n",
      "thank for sending files keep up the good work,Ramya\n",
      "I am looking forward to receive file today,Ramya\n",
      "\n",
      "thank for sending files keep up the good work,Yasmeen\n",
      "I am looking forward to receive file today,Yasmeen\n",
      "\n",
      "thank for sending files keep up the good work,Nihar\n",
      "I am looking forward to receive file today,Nihar\n",
      "\n",
      "thank for sending files keep up the good work,Tarun\n",
      "I am looking forward to receive file today,Tarun\n",
      "\n",
      "thank for sending files keep up the good work,Sayeda\n",
      "I am looking forward to receive file today,Sayeda\n",
      "\n",
      "thank for sending files keep up the good work,Sneha\n",
      "I am looking forward to receive file today,Sneha\n",
      "\n"
     ]
    }
   ],
   "source": [
    "\n",
    "students = ['suresh','ramya','yasmeen','nihar','tarun','sayeda','sneha']\n",
    "\n",
    "#requirement apprecating all\n",
    "#Also tell them looking forward to receive files today\n",
    "\n",
    "\n",
    "\n",
    "for random in students:\n",
    "    print(f\"thank for sending files keep up the good work,{random.title()}\") \n",
    "    print(f\"looking forward to to receive file today,{random.title()}\")\n",
    "\n",
    "#presenting in better way\n",
    "\n",
    "for x in students:\n",
    "    print(f\"thank for sending files keep up the good work,{x.title()}\") \n",
    "    print(f\"I am looking forward to receive file today,{x.title()}\\n\")\n",
    "    "
   ]
  },
  {
   "cell_type": "code",
   "execution_count": 9,
   "metadata": {},
   "outputs": [
    {
     "name": "stdout",
     "output_type": "stream",
     "text": [
      "thank for sending files keep up the good work,Suresh\n",
      "looking forward to to receive file today,Suresh\n",
      "\n",
      "thank for sending files keep up the good work,Ramya\n",
      "looking forward to to receive file today,Ramya\n",
      "\n",
      "thank for sending files keep up the good work,Yasmeen\n",
      "looking forward to to receive file today,Yasmeen\n",
      "\n",
      "thank for sending files keep up the good work,Nihar\n",
      "looking forward to to receive file today,Nihar\n",
      "\n",
      "thank for sending files keep up the good work,Tarun\n",
      "looking forward to to receive file today,Tarun\n",
      "\n",
      "thank for sending files keep up the good work,Sayeda\n",
      "looking forward to to receive file today,Sayeda\n",
      "\n",
      "thank for sending files keep up the good work,Sneha\n",
      "looking forward to to receive file today,Sneha\n",
      "\n",
      "Thank you all for joining the python session\n"
     ]
    }
   ],
   "source": [
    "\n",
    "for random in students:\n",
    "    print(f\"thank for sending files keep up the good work,{random.title()}\") \n",
    "    print(f\"looking forward to to receive file today,{random.title()}\\n\")\n",
    "\n",
    "print('Thank you all for joining the python session')"
   ]
  },
  {
   "cell_type": "code",
   "execution_count": 4,
   "metadata": {},
   "outputs": [
    {
     "name": "stdout",
     "output_type": "stream",
     "text": [
      "Rahul\n",
      "NILESH\n",
      "Sahana\n",
      "Rohini\n",
      "Maneesh\n",
      "Dinesh\n"
     ]
    }
   ],
   "source": [
    "#intro to IF else conditions \n",
    "# if-else block\n",
    "\n",
    "my_students =['rahul','nilesh','sahana','rohini', 'maneesh','dinesh']\n",
    "\n",
    "# req : nilesh is coming print his name in capital ;letters .\n",
    "#for all others print in title case.\n",
    "for p in my_students:\n",
    "    if p == 'nilesh':\n",
    "        print(p.upper())\n",
    "    else:\n",
    "            print(p.title())"
   ]
  },
  {
   "cell_type": "code",
   "execution_count": 25,
   "metadata": {},
   "outputs": [
    {
     "name": "stdout",
     "output_type": "stream",
     "text": [
      "['rahul']\n",
      "['rahul', 'nilesh']\n",
      "['sahana', 'rohini']\n"
     ]
    }
   ],
   "source": [
    "\n",
    "# introduction to slicing\n",
    "\n",
    "my_students =['rahul','nilesh','sahana','rohini', 'maneesh','dinesh']\n",
    "\n",
    "# synatx  : mainvar[startvalue:stopvalue:Stepcount] # totally based up on the idexing\n",
    "# rahul and nilesh in single group.\n",
    "#last value is always exclusive\n",
    "\n",
    "print(my_students[0:1])\n",
    "\n",
    "print(my_students[0:2])\n",
    "\n",
    "print(my_students[2:4])\n",
    "\n"
   ]
  },
  {
   "cell_type": "code",
   "execution_count": null,
   "metadata": {},
   "outputs": [],
   "source": []
  }
 ],
 "metadata": {
  "kernelspec": {
   "display_name": "Python 3",
   "language": "python",
   "name": "python3"
  },
  "language_info": {
   "codemirror_mode": {
    "name": "ipython",
    "version": 3
   },
   "file_extension": ".py",
   "mimetype": "text/x-python",
   "name": "python",
   "nbconvert_exporter": "python",
   "pygments_lexer": "ipython3",
   "version": "3.7.6"
  }
 },
 "nbformat": 4,
 "nbformat_minor": 4
}
