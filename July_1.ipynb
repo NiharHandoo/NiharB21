{
 "cells": [
  {
   "cell_type": "code",
   "execution_count": 1,
   "metadata": {},
   "outputs": [
    {
     "name": "stdout",
     "output_type": "stream",
     "text": [
      "['maneesh', 'dinesh']\n",
      "[2, 4, 6, 8, 10, 12, 14, 16, 18, 20, 22, 24, 26, 28]\n",
      "[3, 5, 7, 9, 11, 13, 15, 17, 19, 21, 23, 25, 27, 29]\n"
     ]
    },
    {
     "data": {
      "text/plain": [
       "list"
      ]
     },
     "execution_count": 1,
     "metadata": {},
     "output_type": "execute_result"
    }
   ],
   "source": [
    "my_students =['rahul','nilesh','sahana','rohini', 'maneesh','dinesh']\n",
    "\n",
    "print(my_students[4:6])\n",
    "\n",
    "\n",
    "#enchancemnt of slcining\n",
    "#i want to get the even numbers from 1-30 using list data\n",
    "# range -> range(startvaue ,stopvalue,stepcount)\n",
    "\n",
    "\n",
    "eve_num = list(range(2,30,2))\n",
    "\n",
    "print(eve_num)\n",
    "\n",
    "\n",
    "\n",
    "odd_num = list(range(3,30,2))\n",
    "\n",
    "print(odd_num)\n",
    "\n",
    "type(odd_num)"
   ]
  },
  {
   "cell_type": "code",
   "execution_count": null,
   "metadata": {},
   "outputs": [],
   "source": []
  },
  {
   "cell_type": "code",
   "execution_count": 3,
   "metadata": {},
   "outputs": [
    {
     "name": "stdout",
     "output_type": "stream",
     "text": [
      "['yasmen', 'vivek']\n",
      "['yasmen', 'yashwant', 'pavan', 'rizwan']\n",
      "['yasmen', 'pratik', 'rizwan']\n"
     ]
    }
   ],
   "source": [
    "students =['yasmen','vivek','yashwant','pratik','pavan','meghna','rizwan','suyog']\n",
    "\n",
    "#want to get 2 people\n",
    "\n",
    "print(students[0:2])\n",
    "\n",
    "#alternate names\n",
    "\n",
    "print (students[0:7:2])\n",
    "\n",
    "\n",
    "print (students[0:7:3])"
   ]
  },
  {
   "cell_type": "code",
   "execution_count": 5,
   "metadata": {},
   "outputs": [
    {
     "name": "stdout",
     "output_type": "stream",
     "text": [
      "suyog\n",
      "suyog\n",
      "rizwan\n",
      "['suyog', 'rizwan', 'meghna', 'pavan', 'pratik', 'yashwant', 'vivek', 'yasmen']\n"
     ]
    }
   ],
   "source": [
    "\n",
    "\n",
    "#intro to neg indexing starts from -1 -2 -3\n",
    "\n",
    "print(students[7])\n",
    "\n",
    "print(students[-1])\n",
    "\n",
    "print(students[-2])\n",
    "\n",
    "\n",
    "#how do you print the list in reverse using indexing**\n",
    "\n",
    "#print(students[-1:-8:1])\n",
    "\n",
    "print(students[::-1])"
   ]
  },
  {
   "cell_type": "code",
   "execution_count": null,
   "metadata": {},
   "outputs": [],
   "source": []
  }
 ],
 "metadata": {
  "kernelspec": {
   "display_name": "Python 3",
   "language": "python",
   "name": "python3"
  },
  "language_info": {
   "codemirror_mode": {
    "name": "ipython",
    "version": 3
   },
   "file_extension": ".py",
   "mimetype": "text/x-python",
   "name": "python",
   "nbconvert_exporter": "python",
   "pygments_lexer": "ipython3",
   "version": "3.7.6"
  }
 },
 "nbformat": 4,
 "nbformat_minor": 4
}
