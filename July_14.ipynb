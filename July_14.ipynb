{
 "cells": [
  {
   "cell_type": "code",
   "execution_count": 2,
   "metadata": {},
   "outputs": [
    {
     "name": "stdout",
     "output_type": "stream",
     "text": [
      "Tell me something and I will repeat back for youI am fine\n",
      "I am fine\n",
      "please enter your name:Nihar Handoo\n",
      "\n",
      "Welcome back to the python, Nihar Handoo\n",
      "please enter your name:Nihar Handoo\n",
      "\n",
      "Hello, Nihar Handoo\n"
     ]
    }
   ],
   "source": [
    "#introduction to user accepted input\n",
    "\n",
    "message = input(\"Tell me something and I will repeat back for you\")\n",
    "print(message)\n",
    "\n",
    "name = input(\"please enter your name:\")\n",
    "print(f\"\\nWelcome back to the python, {name}\")\n",
    "\n",
    "name = input(\"please enter your name:\")\n",
    "print(f\"\\nHello, {name}\")\n",
    "\n",
    "#op please enter your name: Nihar\n",
    "\n",
    "#Welcome back to the python, Nihar\n",
    "\n"
   ]
  },
  {
   "cell_type": "code",
   "execution_count": null,
   "metadata": {},
   "outputs": [],
   "source": [
    "\n",
    "name = input(\"please enter your name:\")\n",
    "print(f\"\\nWelcome back to the python, {name}\")\n",
    "\n",
    "#no space in bw lines\n",
    "#op please enter your name: Nihar\n",
    "#Welcome back to the python, Nihar\n",
    "\n",
    "# using int to accept the "
   ]
  },
  {
   "cell_type": "code",
   "execution_count": 4,
   "metadata": {},
   "outputs": [
    {
     "name": "stdout",
     "output_type": "stream",
     "text": [
      "How old are you20\n"
     ]
    },
    {
     "ename": "TypeError",
     "evalue": "'>=' not supported between instances of 'str' and 'int'",
     "output_type": "error",
     "traceback": [
      "\u001b[1;31m---------------------------------------------------------------------------\u001b[0m",
      "\u001b[1;31mTypeError\u001b[0m                                 Traceback (most recent call last)",
      "\u001b[1;32m<ipython-input-4-a81b1e79ebcd>\u001b[0m in \u001b[0;36m<module>\u001b[1;34m\u001b[0m\n\u001b[0;32m      5\u001b[0m \u001b[1;31m# by default string will be taken by input.\u001b[0m\u001b[1;33m\u001b[0m\u001b[1;33m\u001b[0m\u001b[1;33m\u001b[0m\u001b[0m\n\u001b[0;32m      6\u001b[0m \u001b[1;33m\u001b[0m\u001b[0m\n\u001b[1;32m----> 7\u001b[1;33m \u001b[0mage\u001b[0m \u001b[1;33m>=\u001b[0m \u001b[1;36m20\u001b[0m\u001b[1;33m\u001b[0m\u001b[1;33m\u001b[0m\u001b[0m\n\u001b[0m\u001b[0;32m      8\u001b[0m \u001b[1;31m#error\u001b[0m\u001b[1;33m\u001b[0m\u001b[1;33m\u001b[0m\u001b[1;33m\u001b[0m\u001b[0m\n",
      "\u001b[1;31mTypeError\u001b[0m: '>=' not supported between instances of 'str' and 'int'"
     ]
    }
   ],
   "source": [
    "\n",
    "# using int to accept the \n",
    "\n",
    "age = input(\"How old are you\")\n",
    "\n",
    "# by default string will be taken by input.\n",
    "\n",
    "age >= 20\n",
    "#error"
   ]
  },
  {
   "cell_type": "code",
   "execution_count": 8,
   "metadata": {},
   "outputs": [
    {
     "name": "stdout",
     "output_type": "stream",
     "text": [
      "How old are you23\n"
     ]
    },
    {
     "data": {
      "text/plain": [
       "True"
      ]
     },
     "execution_count": 8,
     "metadata": {},
     "output_type": "execute_result"
    }
   ],
   "source": [
    "\n",
    "#type casting of  data types\n",
    "age = input(\"How old are you\")\n",
    "age = int(age)\n",
    "age >= 20 \n",
    "#OP true"
   ]
  },
  {
   "cell_type": "code",
   "execution_count": 10,
   "metadata": {},
   "outputs": [
    {
     "name": "stdout",
     "output_type": "stream",
     "text": [
      "How Old are you?21\n",
      "You are eligible to vote\n"
     ]
    }
   ],
   "source": [
    "\n",
    "# case study Building Voting Application.\n",
    "age = input(\"How Old are you?\")\n",
    "age = int(age)\n",
    "if age >= 18 :\n",
    "    print(\"You are eligible to vote\")\n",
    "else:\n",
    "        print(\"You are not eligible , try next year!\")\n",
    "\n",
    "#op if input 21\n",
    "\n",
    "#How Old are you? 21\n",
    "#You are eligible to vote\n",
    "#########################"
   ]
  },
  {
   "cell_type": "code",
   "execution_count": null,
   "metadata": {},
   "outputs": [],
   "source": []
  },
  {
   "cell_type": "code",
   "execution_count": null,
   "metadata": {},
   "outputs": [],
   "source": []
  }
 ],
 "metadata": {
  "kernelspec": {
   "display_name": "Python 3",
   "language": "python",
   "name": "python3"
  },
  "language_info": {
   "codemirror_mode": {
    "name": "ipython",
    "version": 3
   },
   "file_extension": ".py",
   "mimetype": "text/x-python",
   "name": "python",
   "nbconvert_exporter": "python",
   "pygments_lexer": "ipython3",
   "version": "3.7.6"
  }
 },
 "nbformat": 4,
 "nbformat_minor": 4
}
