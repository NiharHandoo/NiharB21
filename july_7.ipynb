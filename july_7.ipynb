{
 "cells": [
  {
   "cell_type": "code",
   "execution_count": 4,
   "metadata": {},
   "outputs": [
    {
     "name": "stdout",
     "output_type": "stream",
     "text": [
      "{'color': 'green', 'points': '5'}\n"
     ]
    },
    {
     "data": {
      "text/plain": [
       "dict"
      ]
     },
     "execution_count": 4,
     "metadata": {},
     "output_type": "execute_result"
    }
   ],
   "source": [
    "\n",
    "\n",
    "#into to dictonary data types\n",
    "\n",
    "#key-value pair data type\n",
    "#It is an mutable data type\n",
    "#define  --> {} denoted as dict ,higest weightage\n",
    "#it will be used as near world objects.\n",
    "\n",
    "\n",
    "alien = {'color': 'green', 'points' :'5'}\n",
    "print(alien)\n",
    "type(alien)\n",
    "\n",
    "\n",
    "\n"
   ]
  },
  {
   "cell_type": "code",
   "execution_count": 5,
   "metadata": {},
   "outputs": [
    {
     "name": "stdout",
     "output_type": "stream",
     "text": [
      "code\n"
     ]
    }
   ],
   "source": [
    "user = {'username' : 'codetraining' ,'first_name' : 'code' ,'last_name' : 'training' ,'dob' : '01-01-2019'}\n",
    "print(user['first_name'])"
   ]
  },
  {
   "cell_type": "code",
   "execution_count": 6,
   "metadata": {},
   "outputs": [
    {
     "name": "stdout",
     "output_type": "stream",
     "text": [
      "codetraining\n",
      "codetraining\n"
     ]
    },
    {
     "ename": "KeyError",
     "evalue": "'codetraining'",
     "output_type": "error",
     "traceback": [
      "\u001b[1;31m---------------------------------------------------------------------------\u001b[0m",
      "\u001b[1;31mKeyError\u001b[0m                                  Traceback (most recent call last)",
      "\u001b[1;32m<ipython-input-6-1c40b377309a>\u001b[0m in \u001b[0;36m<module>\u001b[1;34m\u001b[0m\n\u001b[0;32m      5\u001b[0m \u001b[1;31m#op  codetraining\u001b[0m\u001b[1;33m\u001b[0m\u001b[1;33m\u001b[0m\u001b[1;33m\u001b[0m\u001b[0m\n\u001b[0;32m      6\u001b[0m \u001b[1;33m\u001b[0m\u001b[0m\n\u001b[1;32m----> 7\u001b[1;33m \u001b[0mprint\u001b[0m\u001b[1;33m(\u001b[0m\u001b[0muser\u001b[0m\u001b[1;33m[\u001b[0m\u001b[1;34m'codetraining'\u001b[0m\u001b[1;33m]\u001b[0m\u001b[1;33m)\u001b[0m\u001b[1;33m\u001b[0m\u001b[1;33m\u001b[0m\u001b[0m\n\u001b[0m\u001b[0;32m      8\u001b[0m \u001b[1;33m\u001b[0m\u001b[0m\n\u001b[0;32m      9\u001b[0m \u001b[1;31m#op error  can put value to get keys\u001b[0m\u001b[1;33m\u001b[0m\u001b[1;33m\u001b[0m\u001b[1;33m\u001b[0m\u001b[0m\n",
      "\u001b[1;31mKeyError\u001b[0m: 'codetraining'"
     ]
    }
   ],
   "source": [
    "\n",
    "#op code\n",
    "print(user['username'])\n",
    "#op code\n",
    "print(user['username'])\n",
    "#op  codetraining\n",
    "\n",
    "print(user['codetraining'])\n",
    "\n",
    "#op error  can put value to get keys\n"
   ]
  },
  {
   "cell_type": "code",
   "execution_count": 7,
   "metadata": {},
   "outputs": [
    {
     "name": "stdout",
     "output_type": "stream",
     "text": [
      "{'username': 'codetraining', 'first_name': 'code', 'last_name': 'training', 'dob': '01-01-2019', 'location': 'hyderabad', 'resturant': 'farzicafe'}\n"
     ]
    }
   ],
   "source": [
    "\n",
    "user['location'] ='hyderabad'\n",
    "user ['resturant'] = 'farzicafe'\n",
    "print(user)"
   ]
  },
  {
   "cell_type": "code",
   "execution_count": 9,
   "metadata": {},
   "outputs": [
    {
     "name": "stdout",
     "output_type": "stream",
     "text": [
      "{'color': 'green', 'points': '5', 'initi_pos': 0, 'curr_pos': 10}\n"
     ]
    }
   ],
   "source": [
    "\n",
    "# how to add new key values to dict\n",
    "alien = {'color': 'green', 'points' :'5'}\n",
    "\n",
    "alien['initi_pos'] =0\n",
    "alien['curr_pos'] = 10\n",
    "\n",
    "\n",
    "print(alien)\n"
   ]
  },
  {
   "cell_type": "code",
   "execution_count": 11,
   "metadata": {},
   "outputs": [
    {
     "name": "stdout",
     "output_type": "stream",
     "text": [
      "{'color': 'yellow', 'points': 10, 'initi_pos': 0, 'curr_pos': 10}\n"
     ]
    }
   ],
   "source": [
    "\n",
    "# op\n",
    "\n",
    "# how to modify values in a dict :\n",
    "\n",
    "alien['color']= 'yellow'\n",
    "alien['points']= 10\n",
    "\n",
    "print(alien)\n",
    "#o/p\n",
    "\n",
    "\n"
   ]
  },
  {
   "cell_type": "code",
   "execution_count": 12,
   "metadata": {},
   "outputs": [
    {
     "name": "stdout",
     "output_type": "stream",
     "text": [
      "{'color': 'yellow', 'points': 10, 'curr_pos': 10}\n"
     ]
    }
   ],
   "source": [
    "# how to delete key value pairs in a dict\n",
    "\n",
    "del alien['initi_pos'] \n",
    "\n",
    "print(alien)\n",
    "#op will not have inti"
   ]
  },
  {
   "cell_type": "code",
   "execution_count": null,
   "metadata": {},
   "outputs": [],
   "source": []
  }
 ],
 "metadata": {
  "kernelspec": {
   "display_name": "Python 3",
   "language": "python",
   "name": "python3"
  },
  "language_info": {
   "codemirror_mode": {
    "name": "ipython",
    "version": 3
   },
   "file_extension": ".py",
   "mimetype": "text/x-python",
   "name": "python",
   "nbconvert_exporter": "python",
   "pygments_lexer": "ipython3",
   "version": "3.7.6"
  }
 },
 "nbformat": 4,
 "nbformat_minor": 4
}
