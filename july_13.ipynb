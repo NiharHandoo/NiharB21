{
 "cells": [
  {
   "cell_type": "code",
   "execution_count": 11,
   "metadata": {},
   "outputs": [
    {
     "name": "stdout",
     "output_type": "stream",
     "text": [
      "username\n",
      "codetraning\n",
      "fname\n",
      "code\n",
      "lname\n",
      "training\n",
      "pwd\n",
      "12345\n",
      "key: username\n",
      "value:codetraning\n",
      "\n",
      "key: fname\n",
      "value:code\n",
      "\n",
      "key: lname\n",
      "value:training\n",
      "\n",
      "key: pwd\n",
      "value:12345\n",
      "\n",
      "{'username': 'codetraning', 'fname': 'code', 'lname': 'training', 'pwd': 12345}\n",
      "username\n",
      "fname\n",
      "lname\n",
      "pwd\n",
      "codetraning\n",
      "code\n",
      "training\n",
      "12345\n"
     ]
    }
   ],
   "source": [
    "\n",
    "#Continuation with dictionary:\n",
    "#------------------------------------\n",
    "#looping with dictionary\n",
    "\n",
    "user_account ={'username':'codetraning','fname':'code','lname':'training','pwd':12345}\n",
    "\n",
    "#for k,v in mainvar.items():\n",
    " #   print(k)\n",
    "  #  print(v)\n",
    "\n",
    "\n",
    "for x,y in user_account.items():\n",
    "    print(x)\n",
    "    print(y)\n",
    "\n",
    "for x,y in user_account.items():\n",
    "    print(f\"key: {x}\")\n",
    "    print(f\"value:{y}\\n\")\n",
    "\n",
    "\n",
    "\n",
    "\n",
    "    "
   ]
  },
  {
   "cell_type": "code",
   "execution_count": 12,
   "metadata": {},
   "outputs": [
    {
     "name": "stdout",
     "output_type": "stream",
     "text": [
      "{'username': 'codetraning', 'fname': 'code', 'lname': 'training', 'pwd': 12345}\n",
      "username\n",
      "fname\n",
      "lname\n",
      "pwd\n",
      "codetraning\n",
      "code\n",
      "training\n",
      "12345\n"
     ]
    }
   ],
   "source": [
    "print(user_account)\n",
    "#want only keys in the op\n",
    "\n",
    "for x in user_account.keys():\n",
    "     print(x)\n",
    "\n",
    "#get values only \n",
    "\n",
    "for y in user_account.values():\n",
    "     print(y)"
   ]
  },
  {
   "cell_type": "code",
   "execution_count": 1,
   "metadata": {},
   "outputs": [
    {
     "name": "stdout",
     "output_type": "stream",
     "text": [
      "The Zen of Python, by Tim Peters\n",
      "\n",
      "Beautiful is better than ugly.\n",
      "Explicit is better than implicit.\n",
      "Simple is better than complex.\n",
      "Complex is better than complicated.\n",
      "Flat is better than nested.\n",
      "Sparse is better than dense.\n",
      "Readability counts.\n",
      "Special cases aren't special enough to break the rules.\n",
      "Although practicality beats purity.\n",
      "Errors should never pass silently.\n",
      "Unless explicitly silenced.\n",
      "In the face of ambiguity, refuse the temptation to guess.\n",
      "There should be one-- and preferably only one --obvious way to do it.\n",
      "Although that way may not be obvious at first unless you're Dutch.\n",
      "Now is better than never.\n",
      "Although never is often better than *right* now.\n",
      "If the implementation is hard to explain, it's a bad idea.\n",
      "If the implementation is easy to explain, it may be a good idea.\n",
      "Namespaces are one honking great idea -- let's do more of those!\n"
     ]
    }
   ],
   "source": [
    "\n",
    "#zen of python\n",
    "import this\n",
    "\n",
    "#intro to  conditional statements"
   ]
  },
  {
   "cell_type": "code",
   "execution_count": 36,
   "metadata": {},
   "outputs": [
    {
     "name": "stdout",
     "output_type": "stream",
     "text": [
      "Yasmmen\n",
      "Atharva\n",
      "Milind\n",
      "Nilesh\n",
      "Ramya\n",
      "SUSHMITHA\n"
     ]
    }
   ],
   "source": [
    "#intro to  conditional statements\n",
    "students =['yasmmen','atharva','milind','nilesh','ramya','sushmitha']\n",
    "\n",
    "\n",
    "for p in students:\n",
    "    if p == 'sushmitha':\n",
    "        print(p.upper())\n",
    "    else:\n",
    "            print(p.title())"
   ]
  },
  {
   "cell_type": "code",
   "execution_count": null,
   "metadata": {},
   "outputs": [],
   "source": []
  },
  {
   "cell_type": "code",
   "execution_count": null,
   "metadata": {},
   "outputs": [],
   "source": []
  },
  {
   "cell_type": "code",
   "execution_count": null,
   "metadata": {},
   "outputs": [],
   "source": []
  },
  {
   "cell_type": "code",
   "execution_count": null,
   "metadata": {},
   "outputs": [],
   "source": []
  }
 ],
 "metadata": {
  "kernelspec": {
   "display_name": "Python 3",
   "language": "python",
   "name": "python3"
  },
  "language_info": {
   "codemirror_mode": {
    "name": "ipython",
    "version": 3
   },
   "file_extension": ".py",
   "mimetype": "text/x-python",
   "name": "python",
   "nbconvert_exporter": "python",
   "pygments_lexer": "ipython3",
   "version": "3.7.6"
  }
 },
 "nbformat": 4,
 "nbformat_minor": 4
}
